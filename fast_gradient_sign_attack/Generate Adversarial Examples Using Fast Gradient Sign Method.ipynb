{
 "cells": [
  {
   "cell_type": "code",
   "execution_count": 1,
   "metadata": {},
   "outputs": [
    {
     "name": "stderr",
     "output_type": "stream",
     "text": [
      "Using TensorFlow backend.\n"
     ]
    }
   ],
   "source": [
    "%matplotlib inline\n",
    "import os\n",
    "os.environ[\"CUDA_DEVICE_ORDER\"]=\"PCI_BUS_ID\"\n",
    "os.environ[\"CUDA_VISIBLE_DEVICES\"]=\"0\"\n",
    "import numpy as np\n",
    "import keras\n",
    "from keras import backend as K\n",
    "from keras.models import load_model\n",
    "from keras.datasets import mnist\n",
    "from keras import metrics\n",
    "from keras.optimizers import Adam\n",
    "from keras.utils import to_categorical\n",
    "import matplotlib.pyplot as plt"
   ]
  },
  {
   "cell_type": "markdown",
   "metadata": {},
   "source": [
    "## Load dataset"
   ]
  },
  {
   "cell_type": "code",
   "execution_count": 2,
   "metadata": {},
   "outputs": [],
   "source": [
    "'''Load MNIST dataset'''\n",
    "(x_all, y_all), (x_test, y_test) = mnist.load_data()\n",
    "x_train = x_all[:50000]\n",
    "y_train = y_all[:50000]\n",
    "\n",
    "x_validate = x_all[50000:]\n",
    "y_validate = y_all[50000:]\n",
    "\n",
    "#Normal dataset\n",
    "x_train = x_train.astype('float32') / 255.\n",
    "x_validate = x_validate.astype('float32') / 255.\n",
    "x_test = x_test.astype('float32') / 255.\n",
    "\n",
    "x_train = np.expand_dims(x_train, 3)\n",
    "x_validate = np.expand_dims(x_validate, 3)\n",
    "x_test = np.expand_dims(x_test, 3)\n",
    "\n",
    "y_train = to_categorical(y_train, num_classes = 10)\n",
    "y_validate = to_categorical(y_validate, num_classes = 10)\n",
    "y_test = to_categorical(y_test, num_classes = 10)"
   ]
  },
  {
   "cell_type": "markdown",
   "metadata": {},
   "source": [
    "## Load classifier model"
   ]
  },
  {
   "cell_type": "code",
   "execution_count": 3,
   "metadata": {},
   "outputs": [],
   "source": [
    "classifier = load_model('classifier_.h5') \n",
    "classifier.compile(Adam(),\n",
    "                   loss='categorical_crossentropy',\n",
    "                   metrics=['accuracy'])"
   ]
  },
  {
   "cell_type": "code",
   "execution_count": 4,
   "metadata": {},
   "outputs": [
    {
     "name": "stdout",
     "output_type": "stream",
     "text": [
      "10000/10000 [==============================] - 1s 79us/step\n",
      "Accuracy on test set: 98.48%\n"
     ]
    }
   ],
   "source": [
    "'''Test our classifier accuracy on test set'''\n",
    "_, accuracy = classifier.evaluate(x_test,y_test)\n",
    "print('Accuracy on test set: %.2f%%' % (accuracy * 100.))"
   ]
  },
  {
   "cell_type": "markdown",
   "metadata": {},
   "source": [
    "# Generate adversarial examples"
   ]
  },
  {
   "cell_type": "code",
   "execution_count": 5,
   "metadata": {},
   "outputs": [
    {
     "name": "stdout",
     "output_type": "stream",
     "text": [
      "WARNING:tensorflow:Variable /= will be deprecated. Use `var.assign(var / other)` if you want assignment to the variable value or `x = x / y` if you want a new python Tensor object.\n"
     ]
    }
   ],
   "source": [
    "'''Get the model loss, recall y = the model prediction for untargeted attack'''\n",
    "prediction = classifier.predict(x_test)\n",
    "prediction_one_hot = np.argmax(prediction, axis=1)\n",
    "target = to_categorical(prediction_one_hot, num_classes=10)\n",
    "y = K.variable(target) \n",
    "loss = metrics.categorical_crossentropy(classifier.output, y) # crossentropy loss\n",
    "\n",
    "'''Define function to calculate gradient'''\n",
    "get_gradients = K.function([classifier.input], K.gradients(loss, classifier.input))\n",
    "\n",
    "'''Get the gradients w.r.t. each input'''\n",
    "grads = get_gradients([x_test])[0]\n",
    "\n",
    "'''Get the sign of the derivative'''\n",
    "gradient_signs = np.sign(grads)"
   ]
  },
  {
   "cell_type": "code",
   "execution_count": 6,
   "metadata": {},
   "outputs": [],
   "source": [
    "epsilon = 0.2\n",
    "perturbations = epsilon * gradient_signs # perturbation = ϵ * sign(gradient)\n",
    "adv_imgs = x_test + perturbations # x' = x + perturbations\n",
    "adv_imgs = np.clip(adv_imgs, 0.0, 1.0) # make sure they are within bound"
   ]
  },
  {
   "cell_type": "markdown",
   "metadata": {},
   "source": [
    "## Let's see the adversarial examples"
   ]
  },
  {
   "cell_type": "code",
   "execution_count": 7,
   "metadata": {},
   "outputs": [
    {
     "data": {
      "image/png": "[encoded data removed]",
      "text/plain": [
       "<Figure size 648x288 with 18 Axes>"
      ]
     },
     "metadata": {
      "needs_background": "light"
     },
     "output_type": "display_data"
    }
   ],
   "source": [
    "'''Show some adversarial images and the predictions of the classifier'''\n",
    "adv_pred = classifier.predict(adv_imgs)\n",
    "\n",
    "fig,ax = plt.subplots(nrows = 3, ncols = 6, figsize = (9,4))\n",
    "for i in range(6):\n",
    "    '''Display original images'''\n",
    "    ax[0,i].imshow(x_test[i,:,:,0], cmap = 'gray')\n",
    "    title = 'Prediction: ' + str(np.argmax(prediction[i]))\\\n",
    "            + ' (' +\\\n",
    "            '%.2f' % (np.amax(prediction[i]))\\\n",
    "            + ')'\n",
    "    ax[0,i].set_title(title, fontsize = 8)\n",
    "    ax[0,i].get_xaxis().set_visible(False)\n",
    "    ax[0,i].get_yaxis().set_visible(False)\n",
    "\n",
    "    '''Display perturbations'''\n",
    "    ax[1,i].imshow(perturbations[i,:,:,0], cmap = 'gray')\n",
    "    ax[1,i].get_xaxis().set_visible(False)\n",
    "    ax[1,i].get_yaxis().set_visible(False)\n",
    "    \n",
    "    '''Display adversarial images'''\n",
    "    ax[2,i].imshow(adv_imgs[i,:,:,0], cmap = 'gray')\n",
    "    title = 'Prediction: ' + str(np.argmax(adv_pred[i]))\\\n",
    "            + ' (' +\\\n",
    "            '%.2f' % (np.amax(adv_pred[i]))\\\n",
    "            + ')'\n",
    "    ax[2,i].set_title(title, fontsize = 8)\n",
    "    ax[2,i].get_xaxis().set_visible(False)\n",
    "    ax[2,i].get_yaxis().set_visible(False)\n",
    "\n",
    "plt.tight_layout()\n",
    "plt.show()"
   ]
  },
  {
   "cell_type": "markdown",
   "metadata": {},
   "source": [
    "## Check the accuracy of the model on adversarial examples"
   ]
  },
  {
   "cell_type": "code",
   "execution_count": 8,
   "metadata": {},
   "outputs": [
    {
     "name": "stdout",
     "output_type": "stream",
     "text": [
      "10000/10000 [==============================] - 1s 76us/step\n",
      "Accuracy on adversarial test set: 4.98%\n"
     ]
    }
   ],
   "source": [
    "'''Test our classifier accuracy on test set'''\n",
    "_, adv_accuracy = classifier.evaluate(adv_imgs,y_test)\n",
    "print('Accuracy on adversarial test set: %.2f%%' % (adv_accuracy * 100.))"
   ]
  },
  {
   "cell_type": "code",
   "execution_count": null,
   "metadata": {},
   "outputs": [],
   "source": []
  }
 ],
 "metadata": {
  "anaconda-cloud": {},
  "kernelspec": {
   "display_name": "Python 3",
   "language": "python",
   "name": "python3"
  },
  "language_info": {
   "codemirror_mode": {
    "name": "ipython",
    "version": 3
   },
   "file_extension": ".py",
   "mimetype": "text/x-python",
   "name": "python",
   "nbconvert_exporter": "python",
   "pygments_lexer": "ipython3",
   "version": "3.6.7"
  }
 },
 "nbformat": 4,
 "nbformat_minor": 2
}
